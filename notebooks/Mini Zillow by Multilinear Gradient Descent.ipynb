{
 "cells": [
  {
   "cell_type": "code",
   "execution_count": 1,
   "metadata": {},
   "outputs": [
    {
     "data": {
      "text/plain": [
       "array([[3. , 3. , 3. ],\n",
       "       [3. , 2. , 2.5],\n",
       "       [4. , 3. , 3.6]])"
      ]
     },
     "execution_count": 1,
     "metadata": {},
     "output_type": "execute_result"
    }
   ],
   "source": [
    "import numpy as np\n",
    "import matplotlib.pyplot as plt\n",
    "%matplotlib inline\n",
    "step_size = .02\n",
    "prediction_history = np.array([])\n",
    "# Given houses h0, h1 and h2 (features and sales price) predict sales price of unknown house hx\n",
    "# features are Bedroms, Bathrooms, Thousands_square_feet\n",
    "\n",
    "features = ['Bedrooms', 'Bathrooms', 'Square Feet']\n",
    "house_0 = np.array([[3, 3, 3]])\n",
    "house_1 = np.array([[3, 2, 2.5]])\n",
    "house_2 = np.array([[4, 3, 3.6]])\n",
    "house_x = np.array([[4, 3, 3.1]])\n",
    "X = np.vstack([house_0,house_1,house_2])\n",
    "X"
   ]
  },
  {
   "cell_type": "code",
   "execution_count": 45,
   "metadata": {},
   "outputs": [
    {
     "data": {
      "text/plain": [
       "array([[35. ],\n",
       "       [30. ],\n",
       "       [42.5]])"
      ]
     },
     "execution_count": 45,
     "metadata": {},
     "output_type": "execute_result"
    }
   ],
   "source": [
    "#prices in thousands of dollars\n",
    "y = prices = np.array([[35.0000, 30.0000, 42.5000]]).T\n",
    "prices"
   ]
  },
  {
   "cell_type": "code",
   "execution_count": 46,
   "metadata": {},
   "outputs": [
    {
     "data": {
      "text/plain": [
       "array([[0.44682612],\n",
       "       [0.67305807],\n",
       "       [0.00568285]])"
      ]
     },
     "execution_count": 46,
     "metadata": {},
     "output_type": "execute_result"
    }
   ],
   "source": [
    "# start with a random guess at weights:\n",
    "w = np.random.random(3).reshape(3,1)\n",
    "w"
   ]
  },
  {
   "cell_type": "markdown",
   "metadata": {},
   "source": [
    "# Initial Estimate of House X"
   ]
  },
  {
   "cell_type": "code",
   "execution_count": 47,
   "metadata": {},
   "outputs": [
    {
     "name": "stdout",
     "output_type": "stream",
     "text": [
      "[[3.82409555]]\n"
     ]
    }
   ],
   "source": [
    "# initial estimate of price of house_x:\n",
    "house_x.dot(w)\n",
    "prediction_history = np.vstack([X.dot(w),house_x.dot(w)])\n",
    "print(house_x.dot(w))"
   ]
  },
  {
   "cell_type": "markdown",
   "metadata": {},
   "source": [
    "# First Set of Predictions"
   ]
  },
  {
   "cell_type": "code",
   "execution_count": 48,
   "metadata": {},
   "outputs": [
    {
     "data": {
      "text/plain": [
       "array([3.37670114])"
      ]
     },
     "execution_count": 48,
     "metadata": {},
     "output_type": "execute_result"
    }
   ],
   "source": [
    "# first estimate of prices of h0:\n",
    "prediction = X[0,:].dot(w)\n",
    "prediction"
   ]
  },
  {
   "cell_type": "code",
   "execution_count": 49,
   "metadata": {},
   "outputs": [
    {
     "data": {
      "text/plain": [
       "array([1000.03303061])"
      ]
     },
     "execution_count": 49,
     "metadata": {},
     "output_type": "execute_result"
    }
   ],
   "source": [
    "# calculate error on prediction 0\n",
    "Error = (prediction-y[0])**2\n",
    "Error"
   ]
  },
  {
   "cell_type": "code",
   "execution_count": 50,
   "metadata": {},
   "outputs": [
    {
     "data": {
      "text/plain": [
       "array([-189.73979314])"
      ]
     },
     "execution_count": 50,
     "metadata": {},
     "output_type": "execute_result"
    }
   ],
   "source": [
    "# calculate partial derivative of Error of prediction zero, with respect to w0\n",
    "partial_E_w0 = -2*X[0,0]*(y[0]-(X[0,:].dot(w)))\n",
    "partial_E_w0"
   ]
  },
  {
   "cell_type": "code",
   "execution_count": 51,
   "metadata": {},
   "outputs": [
    {
     "data": {
      "text/plain": [
       "array([-189.73979314])"
      ]
     },
     "execution_count": 51,
     "metadata": {},
     "output_type": "execute_result"
    }
   ],
   "source": [
    "# calculate partial derivative of Error of prediction zero, with respect to w1\n",
    "partial_E_w1 = -2*X[0,1]*(y[0]-(X[0,:].dot(w)))\n",
    "partial_E_w1"
   ]
  },
  {
   "cell_type": "code",
   "execution_count": 52,
   "metadata": {},
   "outputs": [
    {
     "data": {
      "text/plain": [
       "array([-189.73979314])"
      ]
     },
     "execution_count": 52,
     "metadata": {},
     "output_type": "execute_result"
    }
   ],
   "source": [
    "# calculate partial derivative of Error of prediction zero, with respect to w2\n",
    "partial_E_w2 = -2*X[0,2]*(y[0]-(X[0,:].dot(w)))\n",
    "partial_E_w2"
   ]
  },
  {
   "cell_type": "code",
   "execution_count": 53,
   "metadata": {},
   "outputs": [
    {
     "data": {
      "text/plain": [
       "array([[3.79479586],\n",
       "       [3.79479586],\n",
       "       [3.79479586]])"
      ]
     },
     "execution_count": 53,
     "metadata": {},
     "output_type": "execute_result"
    }
   ],
   "source": [
    "# calculate adjustment: very small step in negative direction of partial derivative vector\n",
    "adjustment = np.array([partial_E_w0,partial_E_w1,partial_E_w2])*(-step_size)\n",
    "adjustment"
   ]
  },
  {
   "cell_type": "code",
   "execution_count": 54,
   "metadata": {},
   "outputs": [
    {
     "data": {
      "text/plain": [
       "array([[4.24162198],\n",
       "       [4.46785394],\n",
       "       [3.80047872]])"
      ]
     },
     "execution_count": 54,
     "metadata": {},
     "output_type": "execute_result"
    }
   ],
   "source": [
    "# Add adjustment to existing weight values\n",
    "w += adjustment\n",
    "w"
   ]
  },
  {
   "cell_type": "code",
   "execution_count": 55,
   "metadata": {},
   "outputs": [
    {
     "data": {
      "text/plain": [
       "array([37.52986391])"
      ]
     },
     "execution_count": 55,
     "metadata": {},
     "output_type": "execute_result"
    }
   ],
   "source": [
    "# new estimate of price of house_0:\n",
    "X[0,:].dot(w)"
   ]
  },
  {
   "cell_type": "code",
   "execution_count": 56,
   "metadata": {},
   "outputs": [],
   "source": [
    "# new estimate of price of house_x:\n",
    "house_x.dot(w)\n",
    "prediction_history = np.hstack([prediction_history,np.vstack([X.dot(w),house_x.dot(w)])])"
   ]
  },
  {
   "cell_type": "code",
   "execution_count": 57,
   "metadata": {},
   "outputs": [
    {
     "data": {
      "text/plain": [
       "array([31.16177061])"
      ]
     },
     "execution_count": 57,
     "metadata": {},
     "output_type": "execute_result"
    }
   ],
   "source": [
    "# predict price of house 1:\n",
    "prediction_1 = X[1,:].dot(w)\n",
    "prediction_1"
   ]
  },
  {
   "cell_type": "code",
   "execution_count": 58,
   "metadata": {},
   "outputs": [
    {
     "data": {
      "text/plain": [
       "array([708.80004204])"
      ]
     },
     "execution_count": 58,
     "metadata": {},
     "output_type": "execute_result"
    }
   ],
   "source": [
    "# Find the error on house 1\n",
    "Error = (prediction-y[1])**2\n",
    "Error"
   ]
  },
  {
   "cell_type": "code",
   "execution_count": 59,
   "metadata": {},
   "outputs": [
    {
     "data": {
      "text/plain": [
       "array([6.97062369])"
      ]
     },
     "execution_count": 59,
     "metadata": {},
     "output_type": "execute_result"
    }
   ],
   "source": [
    "# calculate partial derivative of Error of prediction one, with respect to w0\n",
    "partial_E_w0 = -2*X[1,0]*(y[1]-(X[1,:].dot(w)))\n",
    "partial_E_w0"
   ]
  },
  {
   "cell_type": "code",
   "execution_count": 60,
   "metadata": {},
   "outputs": [
    {
     "data": {
      "text/plain": [
       "array([4.64708246])"
      ]
     },
     "execution_count": 60,
     "metadata": {},
     "output_type": "execute_result"
    }
   ],
   "source": [
    "# calculate partial derivative of Error of prediction one, with respect to w1\n",
    "partial_E_w1 = -2*X[1,1]*(y[1]-(X[1,:].dot(w)))\n",
    "partial_E_w1"
   ]
  },
  {
   "cell_type": "code",
   "execution_count": 61,
   "metadata": {},
   "outputs": [
    {
     "data": {
      "text/plain": [
       "array([5.80885307])"
      ]
     },
     "execution_count": 61,
     "metadata": {},
     "output_type": "execute_result"
    }
   ],
   "source": [
    "# calculate partial derivative of Error of prediction one, with respect to w2\n",
    "partial_E_w2 = -2*X[1,2]*(y[1]-(X[1,:].dot(w)))\n",
    "partial_E_w2"
   ]
  },
  {
   "cell_type": "code",
   "execution_count": 62,
   "metadata": {},
   "outputs": [
    {
     "data": {
      "text/plain": [
       "array([[-0.13941247],\n",
       "       [-0.09294165],\n",
       "       [-0.11617706]])"
      ]
     },
     "execution_count": 62,
     "metadata": {},
     "output_type": "execute_result"
    }
   ],
   "source": [
    "adjustment = np.array([partial_E_w0,partial_E_w1,partial_E_w2])*(-step_size)\n",
    "adjustment"
   ]
  },
  {
   "cell_type": "code",
   "execution_count": 63,
   "metadata": {},
   "outputs": [
    {
     "data": {
      "text/plain": [
       "array([[4.10220951],\n",
       "       [4.37491229],\n",
       "       [3.68430165]])"
      ]
     },
     "execution_count": 63,
     "metadata": {},
     "output_type": "execute_result"
    }
   ],
   "source": [
    "w += adjustment\n",
    "w"
   ]
  },
  {
   "cell_type": "code",
   "execution_count": 64,
   "metadata": {},
   "outputs": [],
   "source": [
    "# new estimate of hx:\n",
    "house_x.dot(w)\n",
    "prediction_history = np.hstack([prediction_history,np.vstack([X.dot(w),house_x.dot(w)])])"
   ]
  },
  {
   "cell_type": "code",
   "execution_count": 65,
   "metadata": {},
   "outputs": [
    {
     "data": {
      "text/plain": [
       "array([42.79706086])"
      ]
     },
     "execution_count": 65,
     "metadata": {},
     "output_type": "execute_result"
    }
   ],
   "source": [
    "# first estimate of price of h2:\n",
    "X[2,:].dot(w)"
   ]
  },
  {
   "cell_type": "code",
   "execution_count": 66,
   "metadata": {},
   "outputs": [
    {
     "data": {
      "text/plain": [
       "array([1000.03303061])"
      ]
     },
     "execution_count": 66,
     "metadata": {},
     "output_type": "execute_result"
    }
   ],
   "source": [
    "# fnd the error on house 2\n",
    "Error = (prediction-y[0])**2\n",
    "Error"
   ]
  },
  {
   "cell_type": "code",
   "execution_count": 67,
   "metadata": {},
   "outputs": [
    {
     "data": {
      "text/plain": [
       "array([2.37648687])"
      ]
     },
     "execution_count": 67,
     "metadata": {},
     "output_type": "execute_result"
    }
   ],
   "source": [
    "# calculate partial derivative of Error of prediction two, with respect to w0\n",
    "partial_E_w0 = -2*X[2,0]*(y[2]-(X[2,:].dot(w)))\n",
    "partial_E_w0"
   ]
  },
  {
   "cell_type": "code",
   "execution_count": 68,
   "metadata": {},
   "outputs": [
    {
     "data": {
      "text/plain": [
       "array([1.78236515])"
      ]
     },
     "execution_count": 68,
     "metadata": {},
     "output_type": "execute_result"
    }
   ],
   "source": [
    "# calculate partial derivative of Error of prediction two, with respect to w1\n",
    "partial_E_w1 = -2*X[2,1]*(y[2]-(X[2,:].dot(w)))\n",
    "partial_E_w1"
   ]
  },
  {
   "cell_type": "code",
   "execution_count": 69,
   "metadata": {},
   "outputs": [
    {
     "data": {
      "text/plain": [
       "array([2.37648687])"
      ]
     },
     "execution_count": 69,
     "metadata": {},
     "output_type": "execute_result"
    }
   ],
   "source": [
    "# calculate partial derivative of Error of prediction two, with respect to w2\n",
    "partial_E_w2 = -2*X[2,2]*(y[2]-(X[2,:].dot(w)))\n",
    "partial_E_w0"
   ]
  },
  {
   "cell_type": "code",
   "execution_count": 70,
   "metadata": {},
   "outputs": [
    {
     "data": {
      "text/plain": [
       "array([[-0.04752974],\n",
       "       [-0.0356473 ],\n",
       "       [-0.04277676]])"
      ]
     },
     "execution_count": 70,
     "metadata": {},
     "output_type": "execute_result"
    }
   ],
   "source": [
    "adjustment = np.array([partial_E_w0,partial_E_w1,partial_E_w2])*(-step_size)\n",
    "adjustment"
   ]
  },
  {
   "cell_type": "code",
   "execution_count": 71,
   "metadata": {},
   "outputs": [
    {
     "data": {
      "text/plain": [
       "array([[4.05467977],\n",
       "       [4.33926498],\n",
       "       [3.64152489]])"
      ]
     },
     "execution_count": 71,
     "metadata": {},
     "output_type": "execute_result"
    }
   ],
   "source": [
    "w += adjustment\n",
    "w"
   ]
  },
  {
   "cell_type": "code",
   "execution_count": 72,
   "metadata": {},
   "outputs": [
    {
     "data": {
      "text/plain": [
       "array([[40.52524121]])"
      ]
     },
     "execution_count": 72,
     "metadata": {},
     "output_type": "execute_result"
    }
   ],
   "source": [
    "# new estimage of house X\n",
    "house_x.dot(w)"
   ]
  },
  {
   "cell_type": "code",
   "execution_count": 73,
   "metadata": {},
   "outputs": [],
   "source": [
    "prediction_history = np.hstack([prediction_history,np.vstack([X.dot(w),house_x.dot(w)])])"
   ]
  },
  {
   "cell_type": "markdown",
   "metadata": {},
   "source": [
    "# Start of New Epoch"
   ]
  },
  {
   "cell_type": "code",
   "execution_count": 74,
   "metadata": {},
   "outputs": [
    {
     "data": {
      "text/plain": [
       "array([6.63845366, 6.63845366, 6.63845366])"
      ]
     },
     "execution_count": 74,
     "metadata": {},
     "output_type": "execute_result"
    }
   ],
   "source": [
    "partial_E_w = -2*X[0,:]*(y[0]-(X[0,:].dot(w)))\n",
    "partial_E_w"
   ]
  },
  {
   "cell_type": "code",
   "execution_count": 75,
   "metadata": {},
   "outputs": [
    {
     "data": {
      "text/plain": [
       "array([-0.13276907, -0.13276907, -0.13276907])"
      ]
     },
     "execution_count": 75,
     "metadata": {},
     "output_type": "execute_result"
    }
   ],
   "source": [
    "adjustment = partial_E_w*(-step_size)\n",
    "adjustment"
   ]
  },
  {
   "cell_type": "code",
   "execution_count": 76,
   "metadata": {},
   "outputs": [
    {
     "data": {
      "text/plain": [
       "array([[3.9219107 ],\n",
       "       [4.20649591],\n",
       "       [3.50875582]])"
      ]
     },
     "execution_count": 76,
     "metadata": {},
     "output_type": "execute_result"
    }
   ],
   "source": [
    "w += adjustment.reshape(3,1)\n",
    "w"
   ]
  },
  {
   "cell_type": "code",
   "execution_count": 77,
   "metadata": {},
   "outputs": [],
   "source": [
    "prediction_history = np.hstack([prediction_history,np.vstack([X.dot(w),house_x.dot(w)])])"
   ]
  },
  {
   "cell_type": "code",
   "execution_count": 78,
   "metadata": {},
   "outputs": [
    {
     "data": {
      "text/plain": [
       "array([[34.91148728],\n",
       "       [28.95061347],\n",
       "       [40.93865148]])"
      ]
     },
     "execution_count": 78,
     "metadata": {},
     "output_type": "execute_result"
    }
   ],
   "source": [
    "# New estimates of prices:\n",
    "X.dot(w)"
   ]
  },
  {
   "cell_type": "code",
   "execution_count": 79,
   "metadata": {},
   "outputs": [
    {
     "data": {
      "text/plain": [
       "array([[4.04783708],\n",
       "       [4.29044683],\n",
       "       [3.61369447]])"
      ]
     },
     "execution_count": 79,
     "metadata": {},
     "output_type": "execute_result"
    }
   ],
   "source": [
    "w += (-2*X[1,:]*(y[1]-(X[1,:].dot(w)))*(-step_size)).reshape(3,1)\n",
    "w"
   ]
  },
  {
   "cell_type": "code",
   "execution_count": 80,
   "metadata": {},
   "outputs": [
    {
     "data": {
      "text/plain": [
       "array([[35.85593517],\n",
       "       [29.7586411 ],\n",
       "       [42.07198893]])"
      ]
     },
     "execution_count": 80,
     "metadata": {},
     "output_type": "execute_result"
    }
   ],
   "source": [
    "X.dot(w)"
   ]
  },
  {
   "cell_type": "code",
   "execution_count": 81,
   "metadata": {},
   "outputs": [],
   "source": [
    "prediction_history = np.hstack([prediction_history,np.vstack([X.dot(w),house_x.dot(w)])])"
   ]
  },
  {
   "cell_type": "code",
   "execution_count": 82,
   "metadata": {},
   "outputs": [
    {
     "data": {
      "text/plain": [
       "array([[36.40036524],\n",
       "       [30.22089305],\n",
       "       [42.72188094]])"
      ]
     },
     "execution_count": 82,
     "metadata": {},
     "output_type": "execute_result"
    }
   ],
   "source": [
    "w += (-2*X[2,:]*(y[2]-(X[2,:].dot(w)))*(-step_size)).reshape(3,1)\n",
    "X.dot(w)"
   ]
  },
  {
   "cell_type": "code",
   "execution_count": 83,
   "metadata": {},
   "outputs": [],
   "source": [
    "prediction_history = np.hstack([prediction_history,np.vstack([X.dot(w),house_x.dot(w)])])"
   ]
  },
  {
   "cell_type": "code",
   "execution_count": 84,
   "metadata": {},
   "outputs": [
    {
     "data": {
      "text/plain": [
       "array([[35.00938309],\n",
       "       [30.03714861],\n",
       "       [42.5146615 ]])"
      ]
     },
     "execution_count": 84,
     "metadata": {},
     "output_type": "execute_result"
    }
   ],
   "source": [
    "for _ in range(10000):\n",
    "    for i in range(3):\n",
    "        w += (-2*X[i,:]*(y[i]-(X[i,:].dot(w)))*(-step_size)).reshape(3,1)\n",
    "        prediction_history = np.hstack([prediction_history,np.vstack([X.dot(w),house_x.dot(w)])])\n",
    "X.dot(w)"
   ]
  },
  {
   "cell_type": "code",
   "execution_count": 85,
   "metadata": {},
   "outputs": [
    {
     "data": {
      "text/plain": [
       "array([[38.47606888]])"
      ]
     },
     "execution_count": 85,
     "metadata": {},
     "output_type": "execute_result"
    }
   ],
   "source": [
    "# final estimate of house X price\n",
    "house_x.dot(w)"
   ]
  },
  {
   "cell_type": "code",
   "execution_count": 86,
   "metadata": {},
   "outputs": [
    {
     "data": {
      "text/plain": [
       "array([[2.65896726],\n",
       "       [0.93364185],\n",
       "       [8.07718525]])"
      ]
     },
     "execution_count": 86,
     "metadata": {},
     "output_type": "execute_result"
    }
   ],
   "source": [
    "w"
   ]
  },
  {
   "cell_type": "code",
   "execution_count": 87,
   "metadata": {},
   "outputs": [
    {
     "data": {
      "text/plain": [
       "[<matplotlib.lines.Line2D at 0x7f344dfb90b8>,\n",
       " <matplotlib.lines.Line2D at 0x7f344dfc9d68>,\n",
       " <matplotlib.lines.Line2D at 0x7f344dfc9eb8>,\n",
       " <matplotlib.lines.Line2D at 0x7f344dfd3048>]"
      ]
     },
     "execution_count": 87,
     "metadata": {},
     "output_type": "execute_result"
    },
    {
     "data": {
      "image/png": "[encoded data removed]",
      "text/plain": [
       "<matplotlib.figure.Figure at 0x7f344e0ebb00>"
      ]
     },
     "metadata": {},
     "output_type": "display_data"
    }
   ],
   "source": [
    "# plt.ylim([-0,5])\n",
    "plt.xscale('log')\n",
    "plt.plot(prediction_history.T)\n"
   ]
  },
  {
   "cell_type": "code",
   "execution_count": null,
   "metadata": {},
   "outputs": [],
   "source": []
  },
  {
   "cell_type": "code",
   "execution_count": null,
   "metadata": {},
   "outputs": [],
   "source": []
  },
  {
   "cell_type": "code",
   "execution_count": null,
   "metadata": {},
   "outputs": [],
   "source": []
  },
  {
   "cell_type": "code",
   "execution_count": null,
   "metadata": {},
   "outputs": [],
   "source": []
  }
 ],
 "metadata": {
  "kernelspec": {
   "display_name": "Python 3",
   "language": "python",
   "name": "python3"
  },
  "language_info": {
   "codemirror_mode": {
    "name": "ipython",
    "version": 3
   },
   "file_extension": ".py",
   "mimetype": "text/x-python",
   "name": "python",
   "nbconvert_exporter": "python",
   "pygments_lexer": "ipython3",
   "version": "3.6.4"
  }
 },
 "nbformat": 4,
 "nbformat_minor": 2
}
