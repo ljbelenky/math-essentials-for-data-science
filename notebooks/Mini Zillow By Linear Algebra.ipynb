{
 "cells": [
  {
   "cell_type": "code",
   "execution_count": 19,
   "metadata": {},
   "outputs": [
    {
     "data": {
      "text/plain": [
       "array([[   3,    3, 3000],\n",
       "       [   3,    2, 2500],\n",
       "       [   4,    3, 3200]])"
      ]
     },
     "execution_count": 19,
     "metadata": {},
     "output_type": "execute_result"
    }
   ],
   "source": [
    "import numpy as np\n",
    "features = ['Bedrooms', 'Bathrooms', 'Square Feet']\n",
    "house_0 = np.array([[3, 3, 3000]])\n",
    "house_1 = np.array([[3, 2, 2500]])\n",
    "house_2 = np.array([[4, 3, 3200]])\n",
    "house_x = np.array([[4, 4, 3100]])\n",
    "X = np.vstack([house_0,house_1,house_2])\n",
    "X"
   ]
  },
  {
   "cell_type": "code",
   "execution_count": 20,
   "metadata": {},
   "outputs": [
    {
     "data": {
      "text/plain": [
       "array([[350000],\n",
       "       [300000],\n",
       "       [425000]])"
      ]
     },
     "execution_count": 20,
     "metadata": {},
     "output_type": "execute_result"
    }
   ],
   "source": [
    "prices = np.array([[350000, 300000, 425000]]).T\n",
    "prices"
   ]
  },
  {
   "cell_type": "markdown",
   "metadata": {},
   "source": [
    "# (X) * (Weights) = Prices\n",
    "# (X_inv)*(X)*(Weights) = (X_inv)*(Prices)\n",
    "# I*(Weights) = (X_inv)*(Prices)\n",
    "# Weights = (X_inv)*(Prices)"
   ]
  },
  {
   "cell_type": "code",
   "execution_count": 21,
   "metadata": {},
   "outputs": [
    {
     "data": {
      "text/plain": [
       "array([[ 8.05555556e+04],\n",
       "       [ 6.38888889e+04],\n",
       "       [-2.77777778e+01]])"
      ]
     },
     "execution_count": 21,
     "metadata": {},
     "output_type": "execute_result"
    }
   ],
   "source": [
    "Weights = np.linalg.inv(X).dot(prices)\n",
    "Weights"
   ]
  },
  {
   "cell_type": "code",
   "execution_count": 22,
   "metadata": {},
   "outputs": [
    {
     "name": "stdout",
     "output_type": "stream",
     "text": [
      "Keeping all other factors equal, each 1-unit increase in Bedrooms raises the prices by [80555.55555556]\n",
      "Keeping all other factors equal, each 1-unit increase in Bathrooms raises the prices by [63888.88888889]\n",
      "Keeping all other factors equal, each 1-unit increase in Square Feet raises the prices by [-27.77777778]\n"
     ]
    }
   ],
   "source": [
    "for feature, weight in zip(features, Weights):\n",
    "    print('Keeping all other factors equal, each 1-unit increase in {} raises the prices by {}'.format(feature,weight))"
   ]
  },
  {
   "cell_type": "code",
   "execution_count": 23,
   "metadata": {},
   "outputs": [
    {
     "name": "stdout",
     "output_type": "stream",
     "text": [
      "The predicted prices of House_x is: \n",
      "[[491666.66666667]]\n"
     ]
    }
   ],
   "source": [
    "print('The predicted prices of House_x is: ')\n",
    "print(house_x.dot(Weights))"
   ]
  },
  {
   "cell_type": "code",
   "execution_count": null,
   "metadata": {},
   "outputs": [],
   "source": []
  },
  {
   "cell_type": "code",
   "execution_count": null,
   "metadata": {},
   "outputs": [],
   "source": []
  },
  {
   "cell_type": "code",
   "execution_count": null,
   "metadata": {},
   "outputs": [],
   "source": []
  },
  {
   "cell_type": "code",
   "execution_count": null,
   "metadata": {},
   "outputs": [],
   "source": []
  },
  {
   "cell_type": "code",
   "execution_count": null,
   "metadata": {},
   "outputs": [],
   "source": []
  }
 ],
 "metadata": {
  "kernelspec": {
   "display_name": "Python 3",
   "language": "python",
   "name": "python3"
  },
  "language_info": {
   "codemirror_mode": {
    "name": "ipython",
    "version": 3
   },
   "file_extension": ".py",
   "mimetype": "text/x-python",
   "name": "python",
   "nbconvert_exporter": "python",
   "pygments_lexer": "ipython3",
   "version": "3.6.4"
  }
 },
 "nbformat": 4,
 "nbformat_minor": 2
}
