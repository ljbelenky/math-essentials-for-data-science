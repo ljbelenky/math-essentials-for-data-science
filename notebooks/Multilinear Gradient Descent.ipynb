{
 "cells": [
  {
   "cell_type": "code",
   "execution_count": null,
   "metadata": {},
   "outputs": [],
   "source": [
    "import numpy as np\n",
    "import matplotlib.pyplot as plt\n",
    "%matplotlib inline\n",
    "step_size = .02\n",
    "# Given houses h0, h1 and h2 (features and sales price) predict sales price of unknown house hx\n",
    "# features are Bedroms, Bathrooms, Thousands_square_feet\n",
    "# target is hundreds_thousands_dollars\n",
    "prediction_history = np.array([[0,0,0,0]]).T\n",
    "h0 = np.array([[3,3,3, 3.7]])\n",
    "h1 = np.array([[3,2,2.5, 3.0]])\n",
    "h2 = np.array([[4,3,3.2, 4]])\n",
    "hx = np.array([[4,4,3.1]])\n",
    "M = np.vstack([h0,h1,h2])\n",
    "M"
   ]
  },
  {
   "cell_type": "code",
   "execution_count": null,
   "metadata": {},
   "outputs": [],
   "source": [
    "# separate prices target\n",
    "# prices are all rows, last column of matrix M\n",
    "y = M[:,-1]\n",
    "y"
   ]
  },
  {
   "cell_type": "code",
   "execution_count": null,
   "metadata": {},
   "outputs": [],
   "source": [
    "# Make features matrix:\n",
    "# features are all rows, all up to (but not including) last column\n",
    "X = M[:,:-1]\n",
    "X"
   ]
  },
  {
   "cell_type": "code",
   "execution_count": null,
   "metadata": {},
   "outputs": [],
   "source": [
    "# start with a random guess at weights:\n",
    "w = np.random.random(3).reshape(3,1)*20-10\n",
    "w"
   ]
  },
  {
   "cell_type": "code",
   "execution_count": null,
   "metadata": {},
   "outputs": [],
   "source": [
    "# initial estimate of price of house_x:\n",
    "hx.dot(w)\n",
    "prediction_history = np.hstack([prediction_history,np.vstack([X.dot(w),hx.dot(w)])])\n",
    "print(hx.dot(w))"
   ]
  },
  {
   "cell_type": "code",
   "execution_count": null,
   "metadata": {},
   "outputs": [],
   "source": [
    "# first estimate of prices of h0:\n",
    "prediction_0 = X[0,:].dot(w)\n",
    "prediction_0"
   ]
  },
  {
   "cell_type": "code",
   "execution_count": null,
   "metadata": {},
   "outputs": [],
   "source": [
    "# calculate error on prediction 0\n",
    "Error_0 = (prediction_0-y[0])**2\n",
    "Error_0"
   ]
  },
  {
   "cell_type": "code",
   "execution_count": null,
   "metadata": {},
   "outputs": [],
   "source": [
    "# calculate partial derivative of Error of prediction zero, with respect to w0\n",
    "partial_E_w0 = -2*X[0,0]*(y[0]-(X[0,:].dot(w)))\n",
    "partial_E_w0"
   ]
  },
  {
   "cell_type": "code",
   "execution_count": null,
   "metadata": {},
   "outputs": [],
   "source": [
    "# calculate partial derivative of Error of prediction zero, with respect to w1\n",
    "partial_E_w1 = -2*X[0,1]*(y[0]-(X[0,:].dot(w)))\n",
    "partial_E_w1"
   ]
  },
  {
   "cell_type": "code",
   "execution_count": null,
   "metadata": {},
   "outputs": [],
   "source": [
    "# calculate partial derivative of Error of prediction zero, with respect to w2\n",
    "partial_E_w2 = -2*X[0,2]*(y[0]-(X[0,:].dot(w)))\n",
    "partial_E_w2"
   ]
  },
  {
   "cell_type": "code",
   "execution_count": null,
   "metadata": {},
   "outputs": [],
   "source": [
    "# calculate adjustment: very small step in negative direction of partial derivative vector\n",
    "adjustment = np.array([partial_E_w0,partial_E_w1,partial_E_w2])*(-step_size)\n",
    "adjustment"
   ]
  },
  {
   "cell_type": "code",
   "execution_count": null,
   "metadata": {},
   "outputs": [],
   "source": [
    "# Add adjustment to existing weight values\n",
    "w += adjustment\n",
    "w"
   ]
  },
  {
   "cell_type": "code",
   "execution_count": null,
   "metadata": {},
   "outputs": [],
   "source": [
    "# new estimate of price of house_0:\n",
    "X[0,:].dot(w)"
   ]
  },
  {
   "cell_type": "code",
   "execution_count": null,
   "metadata": {},
   "outputs": [],
   "source": [
    "# new estimate of price of house_x:\n",
    "hx.dot(w)\n",
    "prediction_history = np.hstack([prediction_history,np.vstack([X.dot(w),hx.dot(w)])])"
   ]
  },
  {
   "cell_type": "code",
   "execution_count": null,
   "metadata": {},
   "outputs": [],
   "source": [
    "# predict price of house 1:\n",
    "prediction_1 = X[1,:].dot(w)\n",
    "prediction_1"
   ]
  },
  {
   "cell_type": "code",
   "execution_count": null,
   "metadata": {},
   "outputs": [],
   "source": [
    "# calculate partial derivative of Error of prediction one, with respect to w0\n",
    "partial_E_w0 = -2*X[1,0]*(y[1]-(X[1,:].dot(w)))\n",
    "partial_E_w0"
   ]
  },
  {
   "cell_type": "code",
   "execution_count": null,
   "metadata": {},
   "outputs": [],
   "source": [
    "# calculate partial derivative of Error of prediction one, with respect to w1\n",
    "partial_E_w1 = -2*X[1,1]*(y[1]-(X[1,:].dot(w)))\n",
    "partial_E_w1"
   ]
  },
  {
   "cell_type": "code",
   "execution_count": null,
   "metadata": {},
   "outputs": [],
   "source": [
    "# calculate partial derivative of Error of prediction one, with respect to w2\n",
    "partial_E_w2 = -2*X[1,2]*(y[1]-(X[1,:].dot(w)))\n",
    "partial_E_w2"
   ]
  },
  {
   "cell_type": "code",
   "execution_count": null,
   "metadata": {},
   "outputs": [],
   "source": [
    "adjustment = np.array([partial_E_w0,partial_E_w1,partial_E_w2])*(-step_size)\n",
    "adjustment"
   ]
  },
  {
   "cell_type": "code",
   "execution_count": null,
   "metadata": {},
   "outputs": [],
   "source": [
    "w += adjustment\n",
    "w"
   ]
  },
  {
   "cell_type": "code",
   "execution_count": null,
   "metadata": {},
   "outputs": [],
   "source": [
    "# new estimate of h0:\n",
    "X[0,:].dot(w)"
   ]
  },
  {
   "cell_type": "code",
   "execution_count": null,
   "metadata": {},
   "outputs": [],
   "source": [
    "# new estimate of h1:\n",
    "X[1,:].dot(w)"
   ]
  },
  {
   "cell_type": "code",
   "execution_count": null,
   "metadata": {},
   "outputs": [],
   "source": [
    "# new estimate of hx:\n",
    "hx.dot(w)\n",
    "prediction_history = np.hstack([prediction_history,np.vstack([X.dot(w),hx.dot(w)])])"
   ]
  },
  {
   "cell_type": "code",
   "execution_count": null,
   "metadata": {},
   "outputs": [],
   "source": [
    "# first estimate of price of h2:\n",
    "X[2,:].dot(w)"
   ]
  },
  {
   "cell_type": "code",
   "execution_count": null,
   "metadata": {},
   "outputs": [],
   "source": [
    "# calculate partial derivative of Error of prediction two, with respect to w0\n",
    "partial_E_w0 = -2*X[2,0]*(y[2]-(X[2,:].dot(w)))\n",
    "partial_E_w0"
   ]
  },
  {
   "cell_type": "code",
   "execution_count": null,
   "metadata": {},
   "outputs": [],
   "source": [
    "# calculate partial derivative of Error of prediction two, with respect to w1\n",
    "partial_E_w1 = -2*X[2,1]*(y[2]-(X[2,:].dot(w)))\n",
    "partial_E_w1"
   ]
  },
  {
   "cell_type": "code",
   "execution_count": null,
   "metadata": {},
   "outputs": [],
   "source": [
    "# calculate partial derivative of Error of prediction two, with respect to w2\n",
    "partial_E_w2 = -2*X[2,2]*(y[2]-(X[2,:].dot(w)))\n",
    "partial_E_w0"
   ]
  },
  {
   "cell_type": "code",
   "execution_count": null,
   "metadata": {},
   "outputs": [],
   "source": [
    "adjustment = np.array([partial_E_w0,partial_E_w1,partial_E_w2])*(-step_size)\n",
    "adjustment"
   ]
  },
  {
   "cell_type": "code",
   "execution_count": null,
   "metadata": {},
   "outputs": [],
   "source": [
    "w += adjustment\n",
    "w"
   ]
  },
  {
   "cell_type": "code",
   "execution_count": null,
   "metadata": {},
   "outputs": [],
   "source": [
    "# new estimage of house X\n",
    "hx.dot(w)"
   ]
  },
  {
   "cell_type": "code",
   "execution_count": null,
   "metadata": {},
   "outputs": [],
   "source": [
    "prediction_history = np.hstack([prediction_history,np.vstack([X.dot(w),hx.dot(w)])])"
   ]
  },
  {
   "cell_type": "code",
   "execution_count": null,
   "metadata": {},
   "outputs": [],
   "source": [
    "# Start new epoch:\n",
    "partial_E_w = -2*X[0,:]*(y[0]-(X[0,:].dot(w)))\n",
    "partial_E_w"
   ]
  },
  {
   "cell_type": "code",
   "execution_count": null,
   "metadata": {},
   "outputs": [],
   "source": [
    "adjustment = partial_E_w*(-step_size)\n",
    "adjustment"
   ]
  },
  {
   "cell_type": "code",
   "execution_count": null,
   "metadata": {},
   "outputs": [],
   "source": [
    "w += adjustment.reshape(3,1)\n",
    "w"
   ]
  },
  {
   "cell_type": "code",
   "execution_count": null,
   "metadata": {},
   "outputs": [],
   "source": [
    "prediction_history = np.hstack([prediction_history,np.vstack([X.dot(w),hx.dot(w)])])"
   ]
  },
  {
   "cell_type": "code",
   "execution_count": null,
   "metadata": {},
   "outputs": [],
   "source": [
    "# New estimates of prices:\n",
    "X.dot(w)"
   ]
  },
  {
   "cell_type": "code",
   "execution_count": null,
   "metadata": {},
   "outputs": [],
   "source": [
    "w += (-2*X[1,:]*(y[1]-(X[1,:].dot(w)))*(-step_size)).reshape(3,1)\n",
    "w"
   ]
  },
  {
   "cell_type": "code",
   "execution_count": null,
   "metadata": {},
   "outputs": [],
   "source": [
    "X.dot(w)"
   ]
  },
  {
   "cell_type": "code",
   "execution_count": null,
   "metadata": {},
   "outputs": [],
   "source": [
    "prediction_history = np.hstack([prediction_history,np.vstack([X.dot(w),hx.dot(w)])])"
   ]
  },
  {
   "cell_type": "code",
   "execution_count": null,
   "metadata": {},
   "outputs": [],
   "source": [
    "w += (-2*X[2,:]*(y[2]-(X[2,:].dot(w)))*(-step_size)).reshape(3,1)\n",
    "X.dot(w)"
   ]
  },
  {
   "cell_type": "code",
   "execution_count": null,
   "metadata": {},
   "outputs": [],
   "source": [
    "prediction_history = np.hstack([prediction_history,np.vstack([X.dot(w),hx.dot(w)])])"
   ]
  },
  {
   "cell_type": "code",
   "execution_count": null,
   "metadata": {},
   "outputs": [],
   "source": [
    "for i in range(3):\n",
    "    w += (-2*X[i,:]*(y[i]-(X[i,:].dot(w)))*(-step_size)).reshape(3,1)\n",
    "    prediction_history = np.hstack([prediction_history,np.vstack([X.dot(w),hx.dot(w)])])\n",
    "X.dot(w)"
   ]
  },
  {
   "cell_type": "code",
   "execution_count": null,
   "metadata": {},
   "outputs": [],
   "source": [
    "for _ in range(10000):\n",
    "    for i in range(3):\n",
    "        w += (-2*X[i,:]*(y[i]-(X[i,:].dot(w)))*(-step_size)).reshape(3,1)\n",
    "        prediction_history = np.hstack([prediction_history,np.vstack([X.dot(w),hx.dot(w)])])\n",
    "X.dot(w)"
   ]
  },
  {
   "cell_type": "code",
   "execution_count": null,
   "metadata": {},
   "outputs": [],
   "source": [
    "# final estimate of house X price\n",
    "hx.dot(w)"
   ]
  },
  {
   "cell_type": "code",
   "execution_count": null,
   "metadata": {},
   "outputs": [],
   "source": [
    "w"
   ]
  },
  {
   "cell_type": "code",
   "execution_count": null,
   "metadata": {},
   "outputs": [],
   "source": [
    "plt.ylim([-12,12])\n",
    "plt.xscale('log')\n",
    "plt.plot(prediction_history.T)\n"
   ]
  },
  {
   "cell_type": "code",
   "execution_count": null,
   "metadata": {},
   "outputs": [],
   "source": []
  }
 ],
 "metadata": {
  "kernelspec": {
   "display_name": "Python 3",
   "language": "python",
   "name": "python3"
  },
  "language_info": {
   "codemirror_mode": {
    "name": "ipython",
    "version": 3
   },
   "file_extension": ".py",
   "mimetype": "text/x-python",
   "name": "python",
   "nbconvert_exporter": "python",
   "pygments_lexer": "ipython3",
   "version": "3.6.4"
  }
 },
 "nbformat": 4,
 "nbformat_minor": 2
}
